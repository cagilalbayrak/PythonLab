{
 "cells": [
  {
   "attachments": {},
   "cell_type": "markdown",
   "metadata": {},
   "source": [
    "# Python Immersion with Cyber - Practice 2\n",
    "\n",
    "## Helpful Reading\n",
    "* [if/elif/else conditional statements](https://www.w3schools.com/python/python_conditions.asp)\n",
    "* [Python for loops](https://www.w3schools.com/python/python_for_loops.asp)\n",
    "* [Python range function](https://www.w3schools.com/python/ref_func_range.asp)"
   ]
  },
  {
   "cell_type": "markdown",
   "metadata": {},
   "source": [
    "#### Practice Problem 1\n",
    "Given the list `test_list`, write a loop that prints each individual list item.\n",
    "\n",
    "When complete your output should look like this:\n",
    "```\n",
    "    1\n",
    "    2\n",
    "    4\n",
    "    9\n",
    "    16\n",
    "    25\n",
    "    36\n",
    "```\n",
    "\n",
    "`test_list: [1,2,4,9,16,25,36]`"
   ]
  },
  {
   "cell_type": "code",
   "execution_count": null,
   "metadata": {},
   "outputs": [],
   "source": [
    "# PRACTICE PROBLEM 1\n",
    "# YOUR CODE HERE"
   ]
  },
  {
   "cell_type": "markdown",
   "metadata": {},
   "source": [
    "#### Practice Problem 2\n",
    "\n",
    "1. Create a loop that:\n",
    "    1. starts at 30\n",
    "    2. ends at 50\n",
    "    3. and increments by 3\n",
    "\n",
    "2. Output only the even numbers to the console.\n",
    "\n",
    "When complete, your output should appear as follows:\n",
    "```\n",
    "    30\n",
    "    36\n",
    "    42\n",
    "    48\n",
    "```\n",
    "\n",
    "HINT: Use the [modulus operator](https://www.programiz.com/python-programming/examples/odd-even) to determine if a number is even.\n"
   ]
  },
  {
   "cell_type": "code",
   "execution_count": null,
   "metadata": {},
   "outputs": [],
   "source": [
    "# PRACTICE PROBLEM 2\n",
    "# YOUR CODE HERE"
   ]
  },
  {
   "cell_type": "markdown",
   "metadata": {},
   "source": [
    "### Practice problem 3\n",
    "\n",
    "Loop through each value in the `practice_list`.\n",
    "\n",
    "Print each value and indicate whether it is even or odd.\n",
    "\n",
    "When complete, your output should appear as follows:\n",
    "```\n",
    "1 is an odd number.\n",
    "4 is an even number.\n",
    "9 is an odd number.\n",
    "16 is an even number.\n",
    "25 is an odd number.\n",
    "36 is an even number.\n",
    "49 is an odd number.\n",
    "64 is an even number.\n",
    "81 is an odd number.\n",
    "100 is an even number.\n",
    "121 is an odd number.\n",
    "144 is an even number.\n",
    "169 is an odd number.\n",
    "```\n",
    "\n",
    "`practice_list: [1,4,9,16,25,36,49,64,81,100,121,144,169]`"
   ]
  },
  {
   "cell_type": "code",
   "execution_count": null,
   "metadata": {},
   "outputs": [],
   "source": [
    "# PRACTICE PROBLEM 3\n",
    "# YOUR CODE HERE"
   ]
  },
  {
   "cell_type": "markdown",
   "metadata": {},
   "source": [
    "### Practice problem 4\n",
    "Loop through the word `Cybersecurity`.\n",
    "\n",
    "Each time the program counters the letter `e`, print the character number (not the index) to the console.\n",
    "\n",
    "When finished, your output should look like this:\n",
    "\n",
    "```\n",
    "    e is the character 4 in the word Cybersecurity.\n",
    "    e is the character 7 in the word Cybersecurity.\n",
    "```"
   ]
  },
  {
   "cell_type": "code",
   "execution_count": 2,
   "metadata": {},
   "outputs": [
    {
     "ename": "SyntaxError",
     "evalue": "EOL while scanning string literal (<ipython-input-2-ce6a0f418290>, line 12)",
     "output_type": "error",
     "traceback": [
      "\u001b[0;36m  File \u001b[0;32m\"<ipython-input-2-ce6a0f418290>\"\u001b[0;36m, line \u001b[0;32m12\u001b[0m\n\u001b[0;31m    print(f'{word[x]} is the character {x + 1} in the word Cybersecurity)\u001b[0m\n\u001b[0m                                                                         ^\u001b[0m\n\u001b[0;31mSyntaxError\u001b[0m\u001b[0;31m:\u001b[0m EOL while scanning string literal\n"
     ]
    }
   ],
   "source": [
    "# PRACTICE PROBLEM 4\n",
    "\n",
    "word = 'Cybersecurity'\n",
    "# YOUR CODE HERE\n",
    "\n",
    "\n",
    "for x in range(len(word)):\n",
    "    for x in range(13):\n",
    "        for x in (0,1,2,3,4,5,6,7,8,9,10,11,12):\n",
    "            \n",
    "            if word[x] == 'e':\n",
    "                print(f'{word[x]} is the character {x + 1} in the word Cybersecurity)\n",
    "                      "
   ]
  },
  {
   "cell_type": "code",
   "execution_count": null,
   "metadata": {},
   "outputs": [],
   "source": []
  }
 ],
 "metadata": {
  "kernelspec": {
   "display_name": "base",
   "language": "python",
   "name": "python3"
  },
  "language_info": {
   "codemirror_mode": {
    "name": "ipython",
    "version": 3
   },
   "file_extension": ".py",
   "mimetype": "text/x-python",
   "name": "python",
   "nbconvert_exporter": "python",
   "pygments_lexer": "ipython3",
   "version": "3.8.8 (default, Apr 13 2021, 12:59:45) \n[Clang 10.0.0 ]"
  },
  "vscode": {
   "interpreter": {
    "hash": "40d3a090f54c6569ab1632332b64b2c03c39dcf918b08424e98f38b5ae0af88f"
   }
  }
 },
 "nbformat": 4,
 "nbformat_minor": 4
}
