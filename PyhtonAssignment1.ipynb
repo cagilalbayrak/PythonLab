{
 "cells": [
  {
   "attachments": {},
   "cell_type": "markdown",
   "metadata": {},
   "source": [
    "# Python Assignment 1 \n",
    "\n",
    "This Python assignment is helpful for beginners and part of the exercise series on managing research data. The tasks will help you practice:\n",
    "* Reading Data\n",
    "* Transforming Data\n",
    "* Reorganizing Data\n",
    "* Data Cleaning\n",
    "* Managing complex file structures\n",
    "\n",
    "\n",
    "\n",
    "In this assignment you will work with the 2000 5% Public Use Microdata sample for the state of Kansas. For this assignment use this notebook and fill in the indicated markdown and code cells.\n",
    "\n",
    "The data and documentation will be uploaded to repository.\n",
    "\n",
    "**NOTE: you will need to download the data to a folder in your computer.**\n",
    "\n",
    "The following files will be of most interest\n",
    "\n",
    "* PUMS5_20.TXT - the data file\n",
    "* documentation\\ks_puma5.pdf - maps of the geographic areas\n",
    "* pums.pdf - the complete documentation\n",
    "* documentation\\5%_PUMS_record_layout.xls - a spreadsheet documenting the layout of the data file\n",
    "* 5%_PUMS_ancestry.xls - the code list for the ancestry variable\n",
    "\n",
    "The first part of this assignment involves several dictionaries from the data. You'll use them in the later parts of the assignment.\n",
    "\n",
    "Credit: This assignment was part of the LA&S 792 data lab during Fall 2021 at University of Kansas. So credit goes to Dr. Carlos Zambrana. In my repository, you can find my answers to the questions and compare them with yours!\n"
   ]
  },
  {
   "cell_type": "markdown",
   "metadata": {},
   "source": [
    "## Part 1\n",
    "First, **read  5%_PUMS_ancestry.xls as the DataFrame \"ancestry\"**\n",
    "- Rename the columns \"ancestryCode\", and  \"ancestryLabel\"\n",
    "- Read the code as text, keeping the leading zeros."
   ]
  },
  {
   "cell_type": "markdown",
   "metadata": {},
   "source": [
    "### Part 1 approach description 1\n",
    "**PLEASE NOTE:** *replace this line with a description of your approach to part 1.* Do this for each part."
   ]
  },
  {
   "cell_type": "code",
   "execution_count": null,
   "metadata": {},
   "outputs": [],
   "source": [
    "#  Part 1 code"
   ]
  },
  {
   "cell_type": "markdown",
   "metadata": {},
   "source": [
    "## Part 2\n",
    "\n",
    "Next, **create a dictionary of the codes for ancestry. Call the dictionary \"ancestryDictionary\".**\n",
    "\n",
    "The keys will be the values from ancestryCode and the values the values from ancestryLabel. \n",
    "You should then be able to run the print statements in the template cell below and get this output \n",
    "\n",
    "\n",
    "*label for 005 is:  BASQUE (Includes 006, 007)*\n",
    "\n",
    "*label for 039 is:  POMERANIAN (See code 032)*\n",
    "\n",
    "\n",
    "**Use two different approaches.** Here is a list of possibilities:\n",
    "\n",
    "- loop through iterrows with a for loop on the DataFrame and add entries to the dictionary\n",
    "- loop through itertuples with a for loop on the DataFrame and add entries to the dictionary\n",
    "- use a dictionary comprehension with either of the two iterating methods.\n",
    "- use the dictionary constructor and the zip function\n",
    "- use a Series from the DataFrame and the to_dict method\n",
    "\n"
   ]
  },
  {
   "cell_type": "markdown",
   "metadata": {},
   "source": [
    "### Part 2 approach description 1\n",
    "**PLEASE NOTE:** *replace this line with a description of your approach to part 1.* Do this for each part.\n"
   ]
  },
  {
   "cell_type": "code",
   "execution_count": null,
   "metadata": {
    "collapsed": true
   },
   "outputs": [],
   "source": [
    "# part 2 code first method\n",
    "\n",
    "\n",
    "#  the following should return \"BASQUE (Includes 006, 007)\"\"\n",
    "print(\"label for 005 is: \", ancestryDictionary['005'])\n",
    "print(\"label for 039 is: \", ancestryDictionary['039'])\n"
   ]
  },
  {
   "cell_type": "markdown",
   "metadata": {},
   "source": [
    "## Part 1 approach description 2\n",
    "**PLEASE NOTE:** *replace this line with a description of your approach to part 1.* Do this for each part."
   ]
  },
  {
   "cell_type": "code",
   "execution_count": null,
   "metadata": {},
   "outputs": [],
   "source": [
    "# part 2 code second method\n",
    "\n",
    "\n",
    "#  the following should return \"BASQUE (Includes 006, 007)\"\"\n",
    "print(\"label for 005 is: \", ancestryDictionary['005'])\n",
    "print(\"label for 039 is: \", ancestryDictionary['039'])\n"
   ]
  },
  {
   "cell_type": "markdown",
   "metadata": {},
   "source": [
    "## Part 3\n",
    "Drop the codes with labels of \"NOT USED\" from ancestryDictionary\n",
    "Use separate methods in the two cells below. Some alternatives are :\n",
    "\n",
    "- Recreate the dictionary from the DataFrame with a for loop, excluding the unwanted entries\n",
    "- Recreate the dictionary with a dictionary comprehension, excluding the unwanted entries\n",
    "- Loop through a list of the keys in the dictionary and use the del operator on the unwanted entries\n",
    "- Use a dictionary comprehension on the items of the dictionary, excluding the \n",
    "\n",
    "\n",
    "print(ancestryDictionary.get(\"134\", None)) should return \"None\"\n",
    "The dictionary should be shorter than before."
   ]
  },
  {
   "cell_type": "markdown",
   "metadata": {},
   "source": [
    "### Part 3 approach description 1\n",
    "*replace this line with a description of your approach to part 1.*\n"
   ]
  },
  {
   "cell_type": "code",
   "execution_count": null,
   "metadata": {
    "collapsed": true
   },
   "outputs": [],
   "source": [
    "# part 3 code Method 1\n",
    "\n",
    "\n",
    "print(ancestryDictionary.get(\"134\", None))\n",
    "print('The new length of the dict is: ', len(ancestryDictionary))"
   ]
  },
  {
   "cell_type": "markdown",
   "metadata": {},
   "source": [
    "### Part 3 approach description 2\n",
    "**PLEASE NOTE:** *replace this line with a description of your approach to part 1.* Do this for each part."
   ]
  },
  {
   "cell_type": "code",
   "execution_count": null,
   "metadata": {},
   "outputs": [],
   "source": [
    "# part 3 code Method 2\n",
    "\n",
    "\n",
    "print(ancestryDictionary.get(\"134\", None))\n",
    "print('The new length of the dict is: ', len(ancestryDictionary))"
   ]
  },
  {
   "cell_type": "markdown",
   "metadata": {},
   "source": [
    "## Part 4\n",
    "\n",
    "**Read the spreadsheet:\n",
    "5%_PUMS_record_layout.xls**\n",
    "\n",
    "Read the sheet named \"Housing Unit Record\" into a DataFrame named \"housing\".\n",
    "\n",
    "Read the sheet named \"person record\" into a DataFrame named \"person\"\n",
    "\n",
    "Then **create two dictionaries** - one for housing and one for persons.\n",
    "\n",
    "The first named **puma5LayoutHousing** with a key of the variable name and\n",
    "a value of a tuple having \n",
    "the start-1 then end position of the location of the variable \n",
    "in the housing record. These correspond to the Python indexes of the character positions of the field.\n",
    "You should then find this useful in parsing the data records when you read the data file.\n",
    "\n",
    "The second named **puma5LayoutPerson** with a key of the variable name and\n",
    "a value of a tuple having \n",
    "the start-1 then end position of the location of the variable \n",
    "in the person record.\n",
    "\n",
    "The following literal is an example of what your dictionary should contain: {\"SERIALNO\":(1,8)}\n",
    "\n",
    "### Important Note\n",
    " **Your notebook should contain the following:**\n",
    "\n",
    " **print(\"\\n\\nHOUSING Data Dictionary\\n\",housing.head())**\n",
    "\n",
    "**print(\"\\n\\nPerson Data Dictionary\\n\",person.head())**\n",
    "\n",
    "**print(\"\\n\\n Location for SERIALNO: \", puma5LayoutHousing[\"SERIALNO\"]  )**\n",
    "\n",
    "**print(\"\\n\\n Location for FINC: \", puma5LayoutHousing[\"FINC\"]  )**\n",
    "\n",
    "\n",
    "**print(\"\\n\\n Location for SERIALNO: \", puma5LayoutPerson[\"SERIALNO\"]  )**\n",
    "\n",
    "**print(\"\\n\\n Location for POVERTY: \", puma5LayoutPerson[\"POVERTY\"]  )**\n",
    "\n",
    "\n"
   ]
  },
  {
   "cell_type": "markdown",
   "metadata": {},
   "source": [
    "### Part 4 approach description puma5LayoutHousing\n",
    "\n"
   ]
  },
  {
   "cell_type": "code",
   "execution_count": null,
   "metadata": {
    "collapsed": true
   },
   "outputs": [],
   "source": [
    "# part 4 code housing layout\n",
    "\n",
    "\n",
    "\n",
    "print(\"\\n\\nHOUSING Data Dictionary\\n\",housing.head())\n",
    "print(\"\\n\\n Location for SERIALNO: \", puma5LayoutHousing[\"SERIALNO\"]  )\n",
    "print(\"\\n\\n Location for FINC: \", puma5LayoutHousing[\"FINC\"]  )\n"
   ]
  },
  {
   "cell_type": "markdown",
   "metadata": {},
   "source": [
    "### Part 4 approach description puma5LayoutPerson"
   ]
  },
  {
   "cell_type": "code",
   "execution_count": null,
   "metadata": {},
   "outputs": [],
   "source": [
    "# part 4 code person layout\n",
    "\n",
    "\n",
    "print(\"\\n\\nPerson Data Dictionary\\n\",person.head())\n",
    "print(\"\\n\\n Location for SERIALNO: \", puma5LayoutPerson[\"SERIALNO\"]  )\n",
    "print(\"\\n\\n Location for POVERTY: \", puma5LayoutPerson[\"POVERTY\"]  )"
   ]
  },
  {
   "cell_type": "markdown",
   "metadata": {},
   "source": [
    "## Part 5\n",
    "\n",
    "Open the file PUMS5_20.TXT (in the pums5parcent folder) with read only permission and then use the file object as an iterator to read each line.\n",
    "\n",
    "Examine each line and write it out to the appropriate file in your current directory, separating the housing and person records. Name the two files:\n",
    "\n",
    "PUMS5_20Housing.TXT\n",
    "\n",
    "PUMS5_20Persons.TXT\n",
    "\n",
    "Print an error if an unusual record type is found. Also print something signaling that the process is done and how many lines were processed.\n",
    "\n",
    "\n",
    "\n",
    "File Objects methods are documented at: https://docs.python.org/2.4/lib/bltin-file-objects.html\n",
    "\n",
    "An example of looping through a file can be found at:\n",
    "https://docs.python.org/3.3/tutorial/inputoutput.html \n",
    "\n",
    "There are more efficient ways to approach this project than writing intermediate results to storage, but this should be the easiest for you to check that you are getting the correct results.\n",
    "\n",
    "Be sure to close all files, and check that you read all the lines in the file. (Hint, you can look at these files with Notepad++)\n"
   ]
  },
  {
   "cell_type": "markdown",
   "metadata": {},
   "source": [
    "### Part 5 approach description\n"
   ]
  },
  {
   "cell_type": "code",
   "execution_count": null,
   "metadata": {
    "collapsed": true
   },
   "outputs": [],
   "source": [
    "# Part 5 code"
   ]
  },
  {
   "cell_type": "markdown",
   "metadata": {},
   "source": [
    "## Part 6\n",
    "Decide what kind of housing file you now have (delimited?, fixed width?) and use the appropriate Pandas read method to create a DataFrame for housing.\n",
    "\n",
    "Use one of the dictionaries created in part 3 to create a DataFrame of housing units with the following variables:\n",
    "\n",
    "* RECTYPE\n",
    "* SERIALNO\n",
    "* SAMPLE\n",
    "* STATE\n",
    "* REGION\n",
    "* DIVISION\n",
    "* PUMA5\n",
    "* MSACMSA5\n",
    "* TOTPUMA5\n",
    "* LNDPUMA5\n",
    "* HWEIGHT\n",
    "* VACSTAT\n",
    "* PERSONS\n",
    "* ROOMS\n",
    "* HINC\n",
    "* FINC\n",
    "\n",
    "If you for some reason were unable to create the dictionaries or separate the files, there are copies out on the class OneDrive in the PUMS folder.\n",
    "The dictionaries are in the file a1Dictionaries.py\n",
    "You can import the backup dictionaries with this statement if the .py file is in your current directory.\n",
    "\n",
    "*import a1Dictionaries*\n",
    "\n",
    "The backup copies can then be accessed like:\n",
    "\n",
    "a1Dictionaries.puma5LayoutHousingBK\n"
   ]
  },
  {
   "cell_type": "markdown",
   "metadata": {},
   "source": [
    "### Part 6 approach description\n"
   ]
  },
  {
   "cell_type": "code",
   "execution_count": null,
   "metadata": {
    "collapsed": true
   },
   "outputs": [],
   "source": [
    "# part 6 code\n"
   ]
  },
  {
   "cell_type": "markdown",
   "metadata": {},
   "source": [
    "## Part 7\n",
    "Now create a DataFrame for Persons with the following variables:\n",
    "    \n",
    "* RECTYPE\n",
    "* SERIALNO\n",
    "* PNUM\n",
    "* PAUG\n",
    "* DDP\n",
    "* PWEIGHT\n",
    "* RELATE\n",
    "* RELATEA\n",
    "* SEX\n",
    "* AGE\n",
    "* AGEA\n",
    "* HISPAN\n",
    "* HISPANA\n",
    "* NUMRACE\n",
    "* WHITE\n",
    "* BLACK\n",
    "* AIAN\n",
    "* ASIAN\n",
    "* NHPI\n",
    "* OTHER\n",
    "* EDUC\n",
    "* ANCFRST5\n",
    "* ANCSCND5\n",
    "* SPEAK\n",
    "* POB5\n",
    "* TRVTIME\n",
    "* INCTOT\n",
    "\n"
   ]
  },
  {
   "cell_type": "markdown",
   "metadata": {},
   "source": [
    "### Part 7 approach description"
   ]
  },
  {
   "cell_type": "code",
   "execution_count": null,
   "metadata": {
    "collapsed": true
   },
   "outputs": [],
   "source": [
    "# part 7 code"
   ]
  },
  {
   "cell_type": "markdown",
   "metadata": {},
   "source": [
    "## Part 8\n",
    "Add the following columns to the household DataFrame\n",
    "\n",
    "* TotAcres - the total area in acres\n",
    "* NonLand - the area in square meters not in land\n",
    "* PersonsPerRoom - as Persons/Room\n",
    "* FamPerHouseIncome - as FINC/HINC\n",
    "* VacStatText - the text description for the VACSTAT code\n",
    "\n",
    "Answer the following questions\n",
    "* How many households how many households records have more than 2 persons per room? \n",
    "* What is best PUMA for boating?\n",
    "\n",
    "**extra credit:** \n",
    "Also add the following columns\n",
    "* PopPerPuma - (weighted) total number of people per PUMA\n",
    "\n",
    "Use PopPerPuma to find the total population in Kansas. Check online for the population in Kansas in 2000. Did you find a similar estimate? (Include a link to the online source you are using for the comparison)\n"
   ]
  },
  {
   "cell_type": "markdown",
   "metadata": {},
   "source": [
    "### Part 8 approach description"
   ]
  },
  {
   "cell_type": "code",
   "execution_count": null,
   "metadata": {
    "collapsed": true
   },
   "outputs": [],
   "source": [
    "# part 8 code\n",
    "\n",
    "\n",
    "\n",
    "\n",
    "\n",
    "\n",
    "# here is the answer to \"How many households how many households records have more than 2 persons per room?\"\n",
    "\n"
   ]
  },
  {
   "cell_type": "markdown",
   "metadata": {},
   "source": [
    "## Part 9\n",
    "Add the following columns to the persons DataFrame\n",
    "\n",
    "ancestryDescription - a text description of Ancestry using the Dictionary of ancestries created in Part 1 "
   ]
  },
  {
   "cell_type": "markdown",
   "metadata": {},
   "source": [
    "### Part 9 approach description"
   ]
  },
  {
   "cell_type": "code",
   "execution_count": 1,
   "metadata": {},
   "outputs": [],
   "source": [
    "# part 9 code"
   ]
  },
  {
   "cell_type": "markdown",
   "metadata": {},
   "source": [
    "# Part 10\n",
    "Usinng the documentation of the Pandas DataFrame.merge() method found at:\n",
    "\n",
    "https://pandas.pydata.org/pandas-docs/stable/reference/api/pandas.DataFrame.merge.html, \n",
    "\n",
    "create a merged DataFrame containing person records with the following columns from the corresponding housing record\n",
    "\n",
    "* STATE\n",
    "* REGION\n",
    "* DIVISION\n",
    "* PUMA5\n",
    "* MSACMSA5\n",
    "* TOTPUMA5\n",
    "* LNDPUMA5\n",
    "* HWEIGHT\n",
    "* PERSONS\n",
    "* ROOMS\n",
    "* HINC\n",
    "* FINC\n",
    "* VACSTAT\n",
    "\n",
    "\n"
   ]
  },
  {
   "cell_type": "markdown",
   "metadata": {},
   "source": [
    "# Part 10 approach description"
   ]
  },
  {
   "cell_type": "code",
   "execution_count": null,
   "metadata": {
    "collapsed": true
   },
   "outputs": [],
   "source": [
    "# part 10 code"
   ]
  },
  {
   "cell_type": "markdown",
   "metadata": {},
   "source": [
    "## Part 11 Extra credit\n",
    "Add a column called 'VacStatCat' to the part 10 result that converts the VACSTAT to a categorical of it's description and run frequencies on it.\n",
    "\n",
    "Do the same for the original DataFrame houseDF. Why are the frequencies  different?"
   ]
  },
  {
   "cell_type": "markdown",
   "metadata": {},
   "source": [
    "### Part 11 approach description"
   ]
  },
  {
   "cell_type": "code",
   "execution_count": null,
   "metadata": {
    "collapsed": true
   },
   "outputs": [],
   "source": [
    "# part 10 code"
   ]
  }
 ],
 "metadata": {
  "kernelspec": {
   "display_name": "base",
   "language": "python",
   "name": "python3"
  },
  "language_info": {
   "codemirror_mode": {
    "name": "ipython",
    "version": 3
   },
   "file_extension": ".py",
   "mimetype": "text/x-python",
   "name": "python",
   "nbconvert_exporter": "python",
   "pygments_lexer": "ipython3",
   "version": "3.8.8 (default, Apr 13 2021, 12:59:45) \n[Clang 10.0.0 ]"
  },
  "vscode": {
   "interpreter": {
    "hash": "40d3a090f54c6569ab1632332b64b2c03c39dcf918b08424e98f38b5ae0af88f"
   }
  }
 },
 "nbformat": 4,
 "nbformat_minor": 2
}
