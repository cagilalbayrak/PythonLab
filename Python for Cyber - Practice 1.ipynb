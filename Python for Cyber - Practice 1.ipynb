{
 "cells": [
  {
   "attachments": {},
   "cell_type": "markdown",
   "metadata": {},
   "source": [
    "# Python Immersion with Cyber - Practice 1"
   ]
  },
  {
   "attachments": {
    "image.png": {
     "image/png": "[encoded data removed]"
    }
   },
   "cell_type": "markdown",
   "metadata": {},
   "source": [
    "## `If/else` statements\n",
    "![image.png](attachment:image.png)\n",
    "\n",
    "### Practice problem 1 `if/else` statements\n",
    "Use an `if/else` code block to check if the user-supplied password from the variable `password_in` is correct. \n",
    "\n",
    "* If the password is correct, print `Access granted`\n",
    "* If the password is not correct, print `Access denied`"
   ]
  },
  {
   "cell_type": "code",
   "execution_count": null,
   "metadata": {},
   "outputs": [],
   "source": [
    "# assign the correct password to the `password` variable\n",
    "password = 'Pyth0nCyb3r!'\n",
    "\n",
    "# prompt the user for the correct password and store it in the `password_in` variable\n",
    "password_in = input('Enter password: ')\n",
    "\n",
    "# write an if/else statement to indicate to the user if the password is correct\n",
    "# YOUR CODE HERE"
   ]
  },
  {
   "cell_type": "markdown",
   "metadata": {},
   "source": [
    "### Practice problem 2: Debuggling\n",
    "Evaluate the error messages in the console to fix the code in the block below.\n",
    "\n",
    "The code should do the following:\n",
    "1. Accept the name and assign it to the `name` variable\n",
    "\n",
    "2. Greet the user with their name using an `f` string\n",
    "\n",
    "3. Prompt the user for their lucky number\n",
    "\n",
    "    a. If the user's lucky number is `7`, print `Lucky seven. Lucky you.`\n",
    "    \n",
    "    b. If the user's lucky number is `11`, print `Nice. Feeling the energy!`\n",
    "    \n",
    "    c. If the user's lucky number is `21`, print `Blackjack!`\n",
    "    \n",
    "    d. Otherwise, print `Today is not your lucky day.`"
   ]
  },
  {
   "cell_type": "code",
   "execution_count": null,
   "metadata": {},
   "outputs": [],
   "source": [
    "# Enter your name and assign it to a variable\n",
    "name = input('Please enter your name: ')\n",
    "\n",
    "# Output the name to the console\n",
    "# YOUR CODE HERE\n",
    "\n",
    "# Prompt the user for their lucky number\n",
    "num = # YOUR CODE HERE. HINT: Use the input function from above.\n",
    "\n",
    "# Cast the user's input to an `int` because the input function always returns a string.\n",
    "num = int(num)\n",
    "\n",
    "# Set up an if/elif/else statement to evaluate if the number is 7, 11, or 21\n",
    "# YOUR CODE HERE"
   ]
  },
  {
   "cell_type": "code",
   "execution_count": null,
   "metadata": {},
   "outputs": [],
   "source": []
  },
  {
   "cell_type": "code",
   "execution_count": null,
   "metadata": {},
   "outputs": [],
   "source": []
  }
 ],
 "metadata": {
  "kernelspec": {
   "display_name": "Python 3",
   "language": "python",
   "name": "python3"
  },
  "language_info": {
   "codemirror_mode": {
    "name": "ipython",
    "version": 3
   },
   "file_extension": ".py",
   "mimetype": "text/x-python",
   "name": "python",
   "nbconvert_exporter": "python",
   "pygments_lexer": "ipython3",
   "version": "3.8.8"
  }
 },
 "nbformat": 4,
 "nbformat_minor": 4
}
